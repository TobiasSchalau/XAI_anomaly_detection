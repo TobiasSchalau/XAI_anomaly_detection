{
 "cells": [
  {
   "cell_type": "markdown",
   "metadata": {},
   "source": [
    "## Description\n",
    "\n",
    "The Jupyter notebook consists of three parts: \n",
    "\n",
    "1. Preprocessing of the NSL-KDD data set\n",
    "2. Train of a fully connected DNN\n",
    "3. Execution of the XAI methods for getting explainations for the model\n",
    "\n",
    "The code for executing these steps is not part of the notebook. Instead each step is done in a seperated class written in python. The Juptyter notebook acts like a 'main.py' for executing the different steps of the paper."
   ]
  },
  {
   "cell_type": "markdown",
   "metadata": {},
   "source": [
    "### Data preprocessing"
   ]
  },
  {
   "cell_type": "code",
   "execution_count": null,
   "metadata": {},
   "outputs": [],
   "source": [
    "# Load module\n",
    "from xai_anomaly_detection import preprocessing\n",
    "\n",
    "# Initialise instace which loads the data\n",
    "Preprocessing = preprocessing.PreprocessNSLKDD()\n",
    "# show head of train data\n",
    "Preprocessing.print_head('train')\n"
   ]
  },
  {
   "cell_type": "code",
   "execution_count": null,
   "metadata": {},
   "outputs": [],
   "source": []
  }
 ],
 "metadata": {
  "kernelspec": {
   "display_name": "Python 3.8.10 64-bit",
   "language": "python",
   "name": "python3"
  },
  "language_info": {
   "codemirror_mode": {
    "name": "ipython",
    "version": 3
   },
   "file_extension": ".py",
   "mimetype": "text/x-python",
   "name": "python",
   "nbconvert_exporter": "python",
   "pygments_lexer": "ipython3",
   "version": "3.8.10"
  },
  "vscode": {
   "interpreter": {
    "hash": "31f2aee4e71d21fbe5cf8b01ff0e069b9275f58929596ceb00d14d90e3e16cd6"
   }
  }
 },
 "nbformat": 4,
 "nbformat_minor": 2
}
